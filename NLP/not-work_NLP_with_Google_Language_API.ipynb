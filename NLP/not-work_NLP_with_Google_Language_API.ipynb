{
 "cells": [
  {
   "cell_type": "code",
   "execution_count": 13,
   "metadata": {
    "scrolled": true
   },
   "outputs": [
    {
     "ename": "FileNotFoundError",
     "evalue": "[WinError 2] The system cannot find the file specified: 'C:\\\\Users\\\\Mengyu\\\\Anaconda3\\\\lib\\\\site-packages\\\\setuptools-27.2.0-py3.6.egg'",
     "output_type": "error",
     "traceback": [
      "\u001b[1;31m---------------------------------------------------------------------------\u001b[0m",
      "\u001b[1;31mFileNotFoundError\u001b[0m                         Traceback (most recent call last)",
      "\u001b[1;32m<ipython-input-13-4b67c59492eb>\u001b[0m in \u001b[0;36m<module>\u001b[1;34m()\u001b[0m\n\u001b[0;32m      1\u001b[0m \u001b[1;31m# Imports the Google Cloud client library\u001b[0m\u001b[1;33m\u001b[0m\u001b[1;33m\u001b[0m\u001b[0m\n\u001b[1;32m----> 2\u001b[1;33m \u001b[1;32mfrom\u001b[0m \u001b[0mgoogle\u001b[0m\u001b[1;33m.\u001b[0m\u001b[0mcloud\u001b[0m \u001b[1;32mimport\u001b[0m \u001b[0mlanguage\u001b[0m\u001b[1;33m\u001b[0m\u001b[0m\n\u001b[0m\u001b[0;32m      3\u001b[0m \u001b[1;32mfrom\u001b[0m \u001b[0mgoogle\u001b[0m\u001b[1;33m.\u001b[0m\u001b[0mcloud\u001b[0m\u001b[1;33m.\u001b[0m\u001b[0mlanguage\u001b[0m \u001b[1;32mimport\u001b[0m \u001b[0menums\u001b[0m\u001b[1;33m\u001b[0m\u001b[0m\n\u001b[0;32m      4\u001b[0m \u001b[1;32mfrom\u001b[0m \u001b[0mgoogle\u001b[0m\u001b[1;33m.\u001b[0m\u001b[0mcloud\u001b[0m\u001b[1;33m.\u001b[0m\u001b[0mlanguage\u001b[0m \u001b[1;32mimport\u001b[0m \u001b[0mtypes\u001b[0m\u001b[1;33m\u001b[0m\u001b[0m\n\u001b[0;32m      5\u001b[0m \u001b[1;33m\u001b[0m\u001b[0m\n",
      "\u001b[1;32mC:\\Users\\Mengyu\\Anaconda3\\lib\\site-packages\\google\\cloud\\language.py\u001b[0m in \u001b[0;36m<module>\u001b[1;34m()\u001b[0m\n\u001b[0;32m     15\u001b[0m \u001b[1;32mfrom\u001b[0m \u001b[0m__future__\u001b[0m \u001b[1;32mimport\u001b[0m \u001b[0mabsolute_import\u001b[0m\u001b[1;33m\u001b[0m\u001b[0m\n\u001b[0;32m     16\u001b[0m \u001b[1;33m\u001b[0m\u001b[0m\n\u001b[1;32m---> 17\u001b[1;33m \u001b[1;32mfrom\u001b[0m \u001b[0mgoogle\u001b[0m\u001b[1;33m.\u001b[0m\u001b[0mcloud\u001b[0m\u001b[1;33m.\u001b[0m\u001b[0mlanguage_v1\u001b[0m \u001b[1;32mimport\u001b[0m \u001b[0mLanguageServiceClient\u001b[0m\u001b[1;33m\u001b[0m\u001b[0m\n\u001b[0m\u001b[0;32m     18\u001b[0m \u001b[1;32mfrom\u001b[0m \u001b[0mgoogle\u001b[0m\u001b[1;33m.\u001b[0m\u001b[0mcloud\u001b[0m\u001b[1;33m.\u001b[0m\u001b[0mlanguage_v1\u001b[0m \u001b[1;32mimport\u001b[0m \u001b[0menums\u001b[0m\u001b[1;33m\u001b[0m\u001b[0m\n\u001b[0;32m     19\u001b[0m \u001b[1;32mfrom\u001b[0m \u001b[0mgoogle\u001b[0m\u001b[1;33m.\u001b[0m\u001b[0mcloud\u001b[0m\u001b[1;33m.\u001b[0m\u001b[0mlanguage_v1\u001b[0m \u001b[1;32mimport\u001b[0m \u001b[0mtypes\u001b[0m\u001b[1;33m\u001b[0m\u001b[0m\n",
      "\u001b[1;32mC:\\Users\\Mengyu\\Anaconda3\\lib\\site-packages\\google\\cloud\\language_v1\\__init__.py\u001b[0m in \u001b[0;36m<module>\u001b[1;34m()\u001b[0m\n\u001b[0;32m     15\u001b[0m \u001b[1;32mfrom\u001b[0m \u001b[0m__future__\u001b[0m \u001b[1;32mimport\u001b[0m \u001b[0mabsolute_import\u001b[0m\u001b[1;33m\u001b[0m\u001b[0m\n\u001b[0;32m     16\u001b[0m \u001b[1;33m\u001b[0m\u001b[0m\n\u001b[1;32m---> 17\u001b[1;33m \u001b[1;32mfrom\u001b[0m \u001b[0mgoogle\u001b[0m\u001b[1;33m.\u001b[0m\u001b[0mcloud\u001b[0m\u001b[1;33m.\u001b[0m\u001b[0mlanguage_v1\u001b[0m \u001b[1;32mimport\u001b[0m \u001b[0mtypes\u001b[0m\u001b[1;33m\u001b[0m\u001b[0m\n\u001b[0m\u001b[0;32m     18\u001b[0m \u001b[1;32mfrom\u001b[0m \u001b[0mgoogle\u001b[0m\u001b[1;33m.\u001b[0m\u001b[0mcloud\u001b[0m\u001b[1;33m.\u001b[0m\u001b[0mlanguage_v1\u001b[0m\u001b[1;33m.\u001b[0m\u001b[0mgapic\u001b[0m \u001b[1;32mimport\u001b[0m \u001b[0menums\u001b[0m\u001b[1;33m\u001b[0m\u001b[0m\n\u001b[0;32m     19\u001b[0m \u001b[1;32mfrom\u001b[0m \u001b[0mgoogle\u001b[0m\u001b[1;33m.\u001b[0m\u001b[0mcloud\u001b[0m\u001b[1;33m.\u001b[0m\u001b[0mlanguage_v1\u001b[0m\u001b[1;33m.\u001b[0m\u001b[0mgapic\u001b[0m \u001b[1;32mimport\u001b[0m \u001b[0mlanguage_service_client\u001b[0m\u001b[1;33m\u001b[0m\u001b[0m\n",
      "\u001b[1;32mC:\\Users\\Mengyu\\Anaconda3\\lib\\site-packages\\google\\cloud\\language_v1\\types.py\u001b[0m in \u001b[0;36m<module>\u001b[1;34m()\u001b[0m\n\u001b[0;32m     16\u001b[0m \u001b[1;32mimport\u001b[0m \u001b[0msys\u001b[0m\u001b[1;33m\u001b[0m\u001b[0m\n\u001b[0;32m     17\u001b[0m \u001b[1;33m\u001b[0m\u001b[0m\n\u001b[1;32m---> 18\u001b[1;33m \u001b[1;32mfrom\u001b[0m \u001b[0mgoogle\u001b[0m\u001b[1;33m.\u001b[0m\u001b[0mapi_core\u001b[0m\u001b[1;33m.\u001b[0m\u001b[0mprotobuf_helpers\u001b[0m \u001b[1;32mimport\u001b[0m \u001b[0mget_messages\u001b[0m\u001b[1;33m\u001b[0m\u001b[0m\n\u001b[0m\u001b[0;32m     19\u001b[0m \u001b[1;33m\u001b[0m\u001b[0m\n\u001b[0;32m     20\u001b[0m \u001b[1;32mfrom\u001b[0m \u001b[0mgoogle\u001b[0m\u001b[1;33m.\u001b[0m\u001b[0mapi\u001b[0m \u001b[1;32mimport\u001b[0m \u001b[0mhttp_pb2\u001b[0m\u001b[1;33m\u001b[0m\u001b[0m\n",
      "\u001b[1;32mC:\\Users\\Mengyu\\Anaconda3\\lib\\site-packages\\google\\api_core\\__init__.py\u001b[0m in \u001b[0;36m<module>\u001b[1;34m()\u001b[0m\n\u001b[0;32m     21\u001b[0m \u001b[1;33m\u001b[0m\u001b[0m\n\u001b[0;32m     22\u001b[0m \u001b[1;33m\u001b[0m\u001b[0m\n\u001b[1;32m---> 23\u001b[1;33m \u001b[0m__version__\u001b[0m \u001b[1;33m=\u001b[0m \u001b[0mget_distribution\u001b[0m\u001b[1;33m(\u001b[0m\u001b[1;34m'google-api-core'\u001b[0m\u001b[1;33m)\u001b[0m\u001b[1;33m.\u001b[0m\u001b[0mversion\u001b[0m\u001b[1;33m\u001b[0m\u001b[0m\n\u001b[0m",
      "\u001b[1;32mC:\\Users\\Mengyu\\Anaconda3\\lib\\site-packages\\setuptools-27.2.0-py3.6.egg\\pkg_resources\\__init__.py\u001b[0m in \u001b[0;36mget_distribution\u001b[1;34m(dist)\u001b[0m\n",
      "\u001b[1;32mC:\\Users\\Mengyu\\Anaconda3\\lib\\site-packages\\setuptools-27.2.0-py3.6.egg\\pkg_resources\\__init__.py\u001b[0m in \u001b[0;36mget_provider\u001b[1;34m(moduleOrReq)\u001b[0m\n",
      "\u001b[1;32mC:\\Users\\Mengyu\\Anaconda3\\lib\\site-packages\\setuptools-27.2.0-py3.6.egg\\pkg_resources\\__init__.py\u001b[0m in \u001b[0;36mrequire\u001b[1;34m(self, *requirements)\u001b[0m\n",
      "\u001b[1;32mC:\\Users\\Mengyu\\Anaconda3\\lib\\site-packages\\setuptools-27.2.0-py3.6.egg\\pkg_resources\\__init__.py\u001b[0m in \u001b[0;36mresolve\u001b[1;34m(self, requirements, env, installer, replace_conflicting)\u001b[0m\n",
      "\u001b[1;32mC:\\Users\\Mengyu\\Anaconda3\\lib\\site-packages\\setuptools-27.2.0-py3.6.egg\\pkg_resources\\__init__.py\u001b[0m in \u001b[0;36m__init__\u001b[1;34m(self, search_path, platform, python)\u001b[0m\n",
      "\u001b[1;32mC:\\Users\\Mengyu\\Anaconda3\\lib\\site-packages\\setuptools-27.2.0-py3.6.egg\\pkg_resources\\__init__.py\u001b[0m in \u001b[0;36mscan\u001b[1;34m(self, search_path)\u001b[0m\n",
      "\u001b[1;32mC:\\Users\\Mengyu\\Anaconda3\\lib\\site-packages\\setuptools-27.2.0-py3.6.egg\\pkg_resources\\__init__.py\u001b[0m in \u001b[0;36mfind_eggs_in_zip\u001b[1;34m(importer, path_item, only)\u001b[0m\n",
      "\u001b[1;32mC:\\Users\\Mengyu\\Anaconda3\\lib\\site-packages\\setuptools-27.2.0-py3.6.egg\\pkg_resources\\__init__.py\u001b[0m in \u001b[0;36mhas_metadata\u001b[1;34m(self, name)\u001b[0m\n",
      "\u001b[1;32mC:\\Users\\Mengyu\\Anaconda3\\lib\\site-packages\\setuptools-27.2.0-py3.6.egg\\pkg_resources\\__init__.py\u001b[0m in \u001b[0;36m_has\u001b[1;34m(self, fspath)\u001b[0m\n",
      "\u001b[1;32mC:\\Users\\Mengyu\\Anaconda3\\lib\\site-packages\\setuptools-27.2.0-py3.6.egg\\pkg_resources\\__init__.py\u001b[0m in \u001b[0;36mzipinfo\u001b[1;34m(self)\u001b[0m\n",
      "\u001b[1;32mC:\\Users\\Mengyu\\Anaconda3\\lib\\site-packages\\setuptools-27.2.0-py3.6.egg\\pkg_resources\\__init__.py\u001b[0m in \u001b[0;36mload\u001b[1;34m(self, path)\u001b[0m\n",
      "\u001b[1;31mFileNotFoundError\u001b[0m: [WinError 2] The system cannot find the file specified: 'C:\\\\Users\\\\Mengyu\\\\Anaconda3\\\\lib\\\\site-packages\\\\setuptools-27.2.0-py3.6.egg'"
     ]
    }
   ],
   "source": [
    "# Imports the Google Cloud client library\n",
    "from google.cloud import language\n",
    "from google.cloud.language import enums\n",
    "from google.cloud.language import types\n",
    "\n",
    "# Instantiates a client\n",
    "client = language.LanguageServiceClient()\n",
    "\n",
    "# The text to analyze\n",
    "text = u'Hello, world!'\n",
    "document = types.Document(\n",
    "    content=text,\n",
    "    type=enums.Document.Type.PLAIN_TEXT)\n",
    "\n",
    "# Detects the sentiment of the text\n",
    "sentiment = client.analyze_sentiment(document=document).document_sentiment\n",
    "\n",
    "print('Text: {}'.format(text))\n",
    "print('Sentiment: {}, {}'.format(sentiment.score, sentiment.magnitude))"
   ]
  },
  {
   "cell_type": "code",
   "execution_count": 14,
   "metadata": {},
   "outputs": [
    {
     "ename": "FileNotFoundError",
     "evalue": "[WinError 2] The system cannot find the file specified: 'C:\\\\Users\\\\Mengyu\\\\Anaconda3\\\\lib\\\\site-packages\\\\setuptools-27.2.0-py3.6.egg'",
     "output_type": "error",
     "traceback": [
      "\u001b[1;31m---------------------------------------------------------------------------\u001b[0m",
      "\u001b[1;31mFileNotFoundError\u001b[0m                         Traceback (most recent call last)",
      "\u001b[1;32m<ipython-input-14-ce2613faaa65>\u001b[0m in \u001b[0;36m<module>\u001b[1;34m()\u001b[0m\n\u001b[1;32m----> 1\u001b[1;33m \u001b[1;32mfrom\u001b[0m \u001b[0mgoogle\u001b[0m\u001b[1;33m.\u001b[0m\u001b[0mcloud\u001b[0m \u001b[1;32mimport\u001b[0m \u001b[0mlanguage\u001b[0m\u001b[1;33m\u001b[0m\u001b[0m\n\u001b[0m",
      "\u001b[1;32mC:\\Users\\Mengyu\\Anaconda3\\lib\\site-packages\\google\\cloud\\language.py\u001b[0m in \u001b[0;36m<module>\u001b[1;34m()\u001b[0m\n\u001b[0;32m     15\u001b[0m \u001b[1;32mfrom\u001b[0m \u001b[0m__future__\u001b[0m \u001b[1;32mimport\u001b[0m \u001b[0mabsolute_import\u001b[0m\u001b[1;33m\u001b[0m\u001b[0m\n\u001b[0;32m     16\u001b[0m \u001b[1;33m\u001b[0m\u001b[0m\n\u001b[1;32m---> 17\u001b[1;33m \u001b[1;32mfrom\u001b[0m \u001b[0mgoogle\u001b[0m\u001b[1;33m.\u001b[0m\u001b[0mcloud\u001b[0m\u001b[1;33m.\u001b[0m\u001b[0mlanguage_v1\u001b[0m \u001b[1;32mimport\u001b[0m \u001b[0mLanguageServiceClient\u001b[0m\u001b[1;33m\u001b[0m\u001b[0m\n\u001b[0m\u001b[0;32m     18\u001b[0m \u001b[1;32mfrom\u001b[0m \u001b[0mgoogle\u001b[0m\u001b[1;33m.\u001b[0m\u001b[0mcloud\u001b[0m\u001b[1;33m.\u001b[0m\u001b[0mlanguage_v1\u001b[0m \u001b[1;32mimport\u001b[0m \u001b[0menums\u001b[0m\u001b[1;33m\u001b[0m\u001b[0m\n\u001b[0;32m     19\u001b[0m \u001b[1;32mfrom\u001b[0m \u001b[0mgoogle\u001b[0m\u001b[1;33m.\u001b[0m\u001b[0mcloud\u001b[0m\u001b[1;33m.\u001b[0m\u001b[0mlanguage_v1\u001b[0m \u001b[1;32mimport\u001b[0m \u001b[0mtypes\u001b[0m\u001b[1;33m\u001b[0m\u001b[0m\n",
      "\u001b[1;32mC:\\Users\\Mengyu\\Anaconda3\\lib\\site-packages\\google\\cloud\\language_v1\\__init__.py\u001b[0m in \u001b[0;36m<module>\u001b[1;34m()\u001b[0m\n\u001b[0;32m     15\u001b[0m \u001b[1;32mfrom\u001b[0m \u001b[0m__future__\u001b[0m \u001b[1;32mimport\u001b[0m \u001b[0mabsolute_import\u001b[0m\u001b[1;33m\u001b[0m\u001b[0m\n\u001b[0;32m     16\u001b[0m \u001b[1;33m\u001b[0m\u001b[0m\n\u001b[1;32m---> 17\u001b[1;33m \u001b[1;32mfrom\u001b[0m \u001b[0mgoogle\u001b[0m\u001b[1;33m.\u001b[0m\u001b[0mcloud\u001b[0m\u001b[1;33m.\u001b[0m\u001b[0mlanguage_v1\u001b[0m \u001b[1;32mimport\u001b[0m \u001b[0mtypes\u001b[0m\u001b[1;33m\u001b[0m\u001b[0m\n\u001b[0m\u001b[0;32m     18\u001b[0m \u001b[1;32mfrom\u001b[0m \u001b[0mgoogle\u001b[0m\u001b[1;33m.\u001b[0m\u001b[0mcloud\u001b[0m\u001b[1;33m.\u001b[0m\u001b[0mlanguage_v1\u001b[0m\u001b[1;33m.\u001b[0m\u001b[0mgapic\u001b[0m \u001b[1;32mimport\u001b[0m \u001b[0menums\u001b[0m\u001b[1;33m\u001b[0m\u001b[0m\n\u001b[0;32m     19\u001b[0m \u001b[1;32mfrom\u001b[0m \u001b[0mgoogle\u001b[0m\u001b[1;33m.\u001b[0m\u001b[0mcloud\u001b[0m\u001b[1;33m.\u001b[0m\u001b[0mlanguage_v1\u001b[0m\u001b[1;33m.\u001b[0m\u001b[0mgapic\u001b[0m \u001b[1;32mimport\u001b[0m \u001b[0mlanguage_service_client\u001b[0m\u001b[1;33m\u001b[0m\u001b[0m\n",
      "\u001b[1;32mC:\\Users\\Mengyu\\Anaconda3\\lib\\site-packages\\google\\cloud\\language_v1\\types.py\u001b[0m in \u001b[0;36m<module>\u001b[1;34m()\u001b[0m\n\u001b[0;32m     16\u001b[0m \u001b[1;32mimport\u001b[0m \u001b[0msys\u001b[0m\u001b[1;33m\u001b[0m\u001b[0m\n\u001b[0;32m     17\u001b[0m \u001b[1;33m\u001b[0m\u001b[0m\n\u001b[1;32m---> 18\u001b[1;33m \u001b[1;32mfrom\u001b[0m \u001b[0mgoogle\u001b[0m\u001b[1;33m.\u001b[0m\u001b[0mapi_core\u001b[0m\u001b[1;33m.\u001b[0m\u001b[0mprotobuf_helpers\u001b[0m \u001b[1;32mimport\u001b[0m \u001b[0mget_messages\u001b[0m\u001b[1;33m\u001b[0m\u001b[0m\n\u001b[0m\u001b[0;32m     19\u001b[0m \u001b[1;33m\u001b[0m\u001b[0m\n\u001b[0;32m     20\u001b[0m \u001b[1;32mfrom\u001b[0m \u001b[0mgoogle\u001b[0m\u001b[1;33m.\u001b[0m\u001b[0mapi\u001b[0m \u001b[1;32mimport\u001b[0m \u001b[0mhttp_pb2\u001b[0m\u001b[1;33m\u001b[0m\u001b[0m\n",
      "\u001b[1;32mC:\\Users\\Mengyu\\Anaconda3\\lib\\site-packages\\google\\api_core\\__init__.py\u001b[0m in \u001b[0;36m<module>\u001b[1;34m()\u001b[0m\n\u001b[0;32m     21\u001b[0m \u001b[1;33m\u001b[0m\u001b[0m\n\u001b[0;32m     22\u001b[0m \u001b[1;33m\u001b[0m\u001b[0m\n\u001b[1;32m---> 23\u001b[1;33m \u001b[0m__version__\u001b[0m \u001b[1;33m=\u001b[0m \u001b[0mget_distribution\u001b[0m\u001b[1;33m(\u001b[0m\u001b[1;34m'google-api-core'\u001b[0m\u001b[1;33m)\u001b[0m\u001b[1;33m.\u001b[0m\u001b[0mversion\u001b[0m\u001b[1;33m\u001b[0m\u001b[0m\n\u001b[0m",
      "\u001b[1;32mC:\\Users\\Mengyu\\Anaconda3\\lib\\site-packages\\setuptools-27.2.0-py3.6.egg\\pkg_resources\\__init__.py\u001b[0m in \u001b[0;36mget_distribution\u001b[1;34m(dist)\u001b[0m\n",
      "\u001b[1;32mC:\\Users\\Mengyu\\Anaconda3\\lib\\site-packages\\setuptools-27.2.0-py3.6.egg\\pkg_resources\\__init__.py\u001b[0m in \u001b[0;36mget_provider\u001b[1;34m(moduleOrReq)\u001b[0m\n",
      "\u001b[1;32mC:\\Users\\Mengyu\\Anaconda3\\lib\\site-packages\\setuptools-27.2.0-py3.6.egg\\pkg_resources\\__init__.py\u001b[0m in \u001b[0;36mrequire\u001b[1;34m(self, *requirements)\u001b[0m\n",
      "\u001b[1;32mC:\\Users\\Mengyu\\Anaconda3\\lib\\site-packages\\setuptools-27.2.0-py3.6.egg\\pkg_resources\\__init__.py\u001b[0m in \u001b[0;36mresolve\u001b[1;34m(self, requirements, env, installer, replace_conflicting)\u001b[0m\n",
      "\u001b[1;32mC:\\Users\\Mengyu\\Anaconda3\\lib\\site-packages\\setuptools-27.2.0-py3.6.egg\\pkg_resources\\__init__.py\u001b[0m in \u001b[0;36m__init__\u001b[1;34m(self, search_path, platform, python)\u001b[0m\n",
      "\u001b[1;32mC:\\Users\\Mengyu\\Anaconda3\\lib\\site-packages\\setuptools-27.2.0-py3.6.egg\\pkg_resources\\__init__.py\u001b[0m in \u001b[0;36mscan\u001b[1;34m(self, search_path)\u001b[0m\n",
      "\u001b[1;32mC:\\Users\\Mengyu\\Anaconda3\\lib\\site-packages\\setuptools-27.2.0-py3.6.egg\\pkg_resources\\__init__.py\u001b[0m in \u001b[0;36mfind_eggs_in_zip\u001b[1;34m(importer, path_item, only)\u001b[0m\n",
      "\u001b[1;32mC:\\Users\\Mengyu\\Anaconda3\\lib\\site-packages\\setuptools-27.2.0-py3.6.egg\\pkg_resources\\__init__.py\u001b[0m in \u001b[0;36mhas_metadata\u001b[1;34m(self, name)\u001b[0m\n",
      "\u001b[1;32mC:\\Users\\Mengyu\\Anaconda3\\lib\\site-packages\\setuptools-27.2.0-py3.6.egg\\pkg_resources\\__init__.py\u001b[0m in \u001b[0;36m_has\u001b[1;34m(self, fspath)\u001b[0m\n",
      "\u001b[1;32mC:\\Users\\Mengyu\\Anaconda3\\lib\\site-packages\\setuptools-27.2.0-py3.6.egg\\pkg_resources\\__init__.py\u001b[0m in \u001b[0;36mzipinfo\u001b[1;34m(self)\u001b[0m\n",
      "\u001b[1;32mC:\\Users\\Mengyu\\Anaconda3\\lib\\site-packages\\setuptools-27.2.0-py3.6.egg\\pkg_resources\\__init__.py\u001b[0m in \u001b[0;36mload\u001b[1;34m(self, path)\u001b[0m\n",
      "\u001b[1;31mFileNotFoundError\u001b[0m: [WinError 2] The system cannot find the file specified: 'C:\\\\Users\\\\Mengyu\\\\Anaconda3\\\\lib\\\\site-packages\\\\setuptools-27.2.0-py3.6.egg'"
     ]
    }
   ],
   "source": [
    "from google.cloud import language"
   ]
  },
  {
   "cell_type": "code",
   "execution_count": 10,
   "metadata": {},
   "outputs": [
    {
     "name": "stdout",
     "output_type": "stream",
     "text": [
      "Collecting google.cloud\n",
      "  Using cached google_cloud-0.32.0-py2.py3-none-any.whl\n",
      "Requirement already satisfied: google-cloud-logging<1.5dev,>=1.4.0 in c:\\users\\mengyu\\anaconda3\\lib\\site-packages (from google.cloud)\n",
      "Requirement already satisfied: google-cloud-storage<1.7dev,>=1.6.0 in c:\\users\\mengyu\\anaconda3\\lib\\site-packages (from google.cloud)\n",
      "Requirement already satisfied: google-cloud-firestore<0.29dev,>=0.28.0 in c:\\users\\mengyu\\anaconda3\\lib\\site-packages (from google.cloud)\n",
      "Requirement already satisfied: google-cloud-bigtable<0.29dev,>=0.28.1 in c:\\users\\mengyu\\anaconda3\\lib\\site-packages (from google.cloud)\n",
      "Requirement already satisfied: google-cloud-language<1.1dev,>=1.0.0 in c:\\users\\mengyu\\anaconda3\\lib\\site-packages (from google.cloud)\n",
      "Requirement already satisfied: google-cloud-core<0.29dev,>=0.28.0 in c:\\users\\mengyu\\anaconda3\\lib\\site-packages (from google.cloud)\n",
      "Requirement already satisfied: google-cloud-translate<1.4dev,>=1.3.0 in c:\\users\\mengyu\\anaconda3\\lib\\site-packages (from google.cloud)\n",
      "Requirement already satisfied: google-cloud-datastore<1.5dev,>=1.4.0 in c:\\users\\mengyu\\anaconda3\\lib\\site-packages (from google.cloud)\n",
      "Requirement already satisfied: google-cloud-container<0.2dev,>=0.1.0 in c:\\users\\mengyu\\anaconda3\\lib\\site-packages (from google.cloud)\n",
      "Requirement already satisfied: google-cloud-speech<0.31dev,>=0.30.0 in c:\\users\\mengyu\\anaconda3\\lib\\site-packages (from google.cloud)\n",
      "Requirement already satisfied: google-cloud-resource-manager<0.29dev,>=0.28.0 in c:\\users\\mengyu\\anaconda3\\lib\\site-packages (from google.cloud)\n",
      "Requirement already satisfied: google-cloud-videointelligence<1.1dev,>=1.0.0 in c:\\users\\mengyu\\anaconda3\\lib\\site-packages (from google.cloud)\n",
      "Requirement already satisfied: google-cloud-bigquery<0.29dev,>=0.28.0 in c:\\users\\mengyu\\anaconda3\\lib\\site-packages (from google.cloud)\n",
      "Requirement already satisfied: google-cloud-trace<0.18dev,>=0.17.0 in c:\\users\\mengyu\\anaconda3\\lib\\site-packages (from google.cloud)\n",
      "Requirement already satisfied: google-cloud-bigquery-datatransfer<0.2dev,>=0.1.0 in c:\\users\\mengyu\\anaconda3\\lib\\site-packages (from google.cloud)\n",
      "Requirement already satisfied: google-cloud-dns<0.29dev,>=0.28.0 in c:\\users\\mengyu\\anaconda3\\lib\\site-packages (from google.cloud)\n",
      "Requirement already satisfied: google-cloud-spanner<0.30dev,>=0.29.0 in c:\\users\\mengyu\\anaconda3\\lib\\site-packages (from google.cloud)\n",
      "Requirement already satisfied: google-cloud-vision<0.30dev,>=0.29.0 in c:\\users\\mengyu\\anaconda3\\lib\\site-packages (from google.cloud)\n",
      "Requirement already satisfied: google-cloud-error-reporting<0.29dev,>=0.28.0 in c:\\users\\mengyu\\anaconda3\\lib\\site-packages (from google.cloud)\n",
      "Collecting google-api-core<0.2.0dev,>=0.1.2 (from google.cloud)\n",
      "  Using cached google_api_core-0.1.4-py2.py3-none-any.whl\n",
      "Requirement already satisfied: google-cloud-runtimeconfig<0.29dev,>=0.28.0 in c:\\users\\mengyu\\anaconda3\\lib\\site-packages (from google.cloud)\n",
      "Requirement already satisfied: google-cloud-monitoring<0.29dev,>=0.28.0 in c:\\users\\mengyu\\anaconda3\\lib\\site-packages (from google.cloud)\n",
      "Requirement already satisfied: google-cloud-pubsub<0.31dev,>=0.30.0 in c:\\users\\mengyu\\anaconda3\\lib\\site-packages (from google.cloud)\n",
      "Requirement already satisfied: gapic-google-cloud-logging-v2<0.92dev,>=0.91.0 in c:\\users\\mengyu\\anaconda3\\lib\\site-packages (from google-cloud-logging<1.5dev,>=1.4.0->google.cloud)\n",
      "Requirement already satisfied: google-auth>=1.0.0 in c:\\users\\mengyu\\anaconda3\\lib\\site-packages (from google-cloud-storage<1.7dev,>=1.6.0->google.cloud)\n",
      "Requirement already satisfied: requests>=2.18.0 in c:\\users\\mengyu\\anaconda3\\lib\\site-packages (from google-cloud-storage<1.7dev,>=1.6.0->google.cloud)\n",
      "Requirement already satisfied: google-resumable-media>=0.3.1 in c:\\users\\mengyu\\anaconda3\\lib\\site-packages (from google-cloud-storage<1.7dev,>=1.6.0->google.cloud)\n",
      "Requirement already satisfied: google-gax<0.16dev,>=0.15.7 in c:\\users\\mengyu\\anaconda3\\lib\\site-packages (from google-cloud-firestore<0.29dev,>=0.28.0->google.cloud)\n",
      "Requirement already satisfied: gapic-google-cloud-datastore-v1<0.16dev,>=0.15.0 in c:\\users\\mengyu\\anaconda3\\lib\\site-packages (from google-cloud-datastore<1.5dev,>=1.4.0->google.cloud)\n",
      "Requirement already satisfied: grpc-google-iam-v1<0.12dev,>=0.11.4 in c:\\users\\mengyu\\anaconda3\\lib\\site-packages (from google-cloud-spanner<0.30dev,>=0.29.0->google.cloud)\n",
      "Requirement already satisfied: googleapis-common-protos[grpc]<2.0dev,>=1.5.2 in c:\\users\\mengyu\\anaconda3\\lib\\site-packages (from google-cloud-vision<0.30dev,>=0.29.0->google.cloud)\n",
      "Requirement already satisfied: gapic-google-cloud-error-reporting-v1beta1<0.16dev,>=0.15.0 in c:\\users\\mengyu\\anaconda3\\lib\\site-packages (from google-cloud-error-reporting<0.29dev,>=0.28.0->google.cloud)\n",
      "Requirement already satisfied: protobuf>=3.0.0 in c:\\users\\mengyu\\anaconda3\\lib\\site-packages (from google-api-core<0.2.0dev,>=0.1.2->google.cloud)\n",
      "Requirement already satisfied: setuptools>=34.0.0 in c:\\users\\mengyu\\anaconda3\\lib\\site-packages (from google-api-core<0.2.0dev,>=0.1.2->google.cloud)\n",
      "Requirement already satisfied: pytz in c:\\users\\mengyu\\anaconda3\\lib\\site-packages (from google-api-core<0.2.0dev,>=0.1.2->google.cloud)\n",
      "Requirement already satisfied: six>=1.10.0 in c:\\users\\mengyu\\appdata\\roaming\\python\\python36\\site-packages (from google-api-core<0.2.0dev,>=0.1.2->google.cloud)\n",
      "Requirement already satisfied: psutil<6.0dev,>=5.2.2 in c:\\users\\mengyu\\anaconda3\\lib\\site-packages (from google-cloud-pubsub<0.31dev,>=0.30.0->google.cloud)\n",
      "Requirement already satisfied: proto-google-cloud-logging-v2[grpc]<0.92dev,>=0.91.3 in c:\\users\\mengyu\\anaconda3\\lib\\site-packages (from gapic-google-cloud-logging-v2<0.92dev,>=0.91.0->google-cloud-logging<1.5dev,>=1.4.0->google.cloud)\n",
      "Requirement already satisfied: oauth2client<4.0dev,>=2.0.0 in c:\\users\\mengyu\\anaconda3\\lib\\site-packages (from gapic-google-cloud-logging-v2<0.92dev,>=0.91.0->google-cloud-logging<1.5dev,>=1.4.0->google.cloud)\n",
      "Requirement already satisfied: cachetools>=2.0.0 in c:\\users\\mengyu\\anaconda3\\lib\\site-packages (from google-auth>=1.0.0->google-cloud-storage<1.7dev,>=1.6.0->google.cloud)\n",
      "Requirement already satisfied: rsa>=3.1.4 in c:\\users\\mengyu\\appdata\\roaming\\python\\python36\\site-packages (from google-auth>=1.0.0->google-cloud-storage<1.7dev,>=1.6.0->google.cloud)\n",
      "Requirement already satisfied: pyasn1-modules>=0.2.1 in c:\\users\\mengyu\\anaconda3\\lib\\site-packages (from google-auth>=1.0.0->google-cloud-storage<1.7dev,>=1.6.0->google.cloud)\n",
      "Requirement already satisfied: chardet<3.1.0,>=3.0.2 in c:\\users\\mengyu\\anaconda3\\lib\\site-packages (from requests>=2.18.0->google-cloud-storage<1.7dev,>=1.6.0->google.cloud)\n",
      "Requirement already satisfied: urllib3<1.23,>=1.21.1 in c:\\users\\mengyu\\anaconda3\\lib\\site-packages (from requests>=2.18.0->google-cloud-storage<1.7dev,>=1.6.0->google.cloud)\n",
      "Requirement already satisfied: certifi>=2017.4.17 in c:\\users\\mengyu\\anaconda3\\lib\\site-packages (from requests>=2.18.0->google-cloud-storage<1.7dev,>=1.6.0->google.cloud)\n",
      "Requirement already satisfied: idna<2.7,>=2.5 in c:\\users\\mengyu\\anaconda3\\lib\\site-packages (from requests>=2.18.0->google-cloud-storage<1.7dev,>=1.6.0->google.cloud)\n",
      "Requirement already satisfied: future<0.17dev,>=0.16.0 in c:\\users\\mengyu\\anaconda3\\lib\\site-packages (from google-gax<0.16dev,>=0.15.7->google-cloud-firestore<0.29dev,>=0.28.0->google.cloud)\n",
      "Requirement already satisfied: ply==3.8 in c:\\users\\mengyu\\anaconda3\\lib\\site-packages (from google-gax<0.16dev,>=0.15.7->google-cloud-firestore<0.29dev,>=0.28.0->google.cloud)\n",
      "Requirement already satisfied: grpcio<2.0dev,>=1.0.2 in c:\\users\\mengyu\\anaconda3\\lib\\site-packages (from google-gax<0.16dev,>=0.15.7->google-cloud-firestore<0.29dev,>=0.28.0->google.cloud)\n",
      "Requirement already satisfied: dill<0.3dev,>=0.2.5 in c:\\users\\mengyu\\anaconda3\\lib\\site-packages (from google-gax<0.16dev,>=0.15.7->google-cloud-firestore<0.29dev,>=0.28.0->google.cloud)\n",
      "Requirement already satisfied: proto-google-cloud-datastore-v1[grpc]<0.91dev,>=0.90.3 in c:\\users\\mengyu\\anaconda3\\lib\\site-packages (from gapic-google-cloud-datastore-v1<0.16dev,>=0.15.0->google-cloud-datastore<1.5dev,>=1.4.0->google.cloud)\n",
      "Requirement already satisfied: proto-google-cloud-error-reporting-v1beta1[grpc]<0.16dev,>=0.15.3 in c:\\users\\mengyu\\anaconda3\\lib\\site-packages (from gapic-google-cloud-error-reporting-v1beta1<0.16dev,>=0.15.0->google-cloud-error-reporting<0.29dev,>=0.28.0->google.cloud)\n",
      "Requirement already satisfied: httplib2>=0.9.1 in c:\\users\\mengyu\\anaconda3\\lib\\site-packages (from oauth2client<4.0dev,>=2.0.0->gapic-google-cloud-logging-v2<0.92dev,>=0.91.0->google-cloud-logging<1.5dev,>=1.4.0->google.cloud)\n",
      "Requirement already satisfied: pyasn1>=0.1.7 in c:\\users\\mengyu\\appdata\\roaming\\python\\python36\\site-packages (from oauth2client<4.0dev,>=2.0.0->gapic-google-cloud-logging-v2<0.92dev,>=0.91.0->google-cloud-logging<1.5dev,>=1.4.0->google.cloud)\n",
      "Requirement already satisfied: pyreadline>=1.7.1 in c:\\users\\mengyu\\anaconda3\\lib\\site-packages (from dill<0.3dev,>=0.2.5->google-gax<0.16dev,>=0.15.7->google-cloud-firestore<0.29dev,>=0.28.0->google.cloud)\n",
      "Installing collected packages: google-api-core, google.cloud\n",
      "  Found existing installation: google-api-core 1.0.0\n",
      "    Uninstalling google-api-core-1.0.0:\n",
      "      Successfully uninstalled google-api-core-1.0.0\n",
      "Successfully installed google-api-core-0.1.4 google.cloud\n"
     ]
    }
   ],
   "source": [
    "!pip install google.cloud"
   ]
  }
 ],
 "metadata": {
  "anaconda-cloud": {},
  "kernelspec": {
   "display_name": "Python [default]",
   "language": "python",
   "name": "python3"
  },
  "language_info": {
   "codemirror_mode": {
    "name": "ipython",
    "version": 3
   },
   "file_extension": ".py",
   "mimetype": "text/x-python",
   "name": "python",
   "nbconvert_exporter": "python",
   "pygments_lexer": "ipython3",
   "version": "3.6.1"
  }
 },
 "nbformat": 4,
 "nbformat_minor": 2
}
