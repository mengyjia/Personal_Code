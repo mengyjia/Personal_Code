{
 "cells": [
  {
   "cell_type": "code",
   "execution_count": 10,
   "metadata": {},
   "outputs": [],
   "source": [
    "# Because I installed conda above python, so in my jupyter, I can create 3 types of python file: conda root, default, and conda env:Anaconda3\n",
    "# This gives me really big problems\n",
    "#In the conda root and conda env files, although I have set the configure, it still cannot access to NLP API\n",
    "#When I changed to python default, it worked."
   ]
  },
  {
   "cell_type": "code",
   "execution_count": 1,
   "metadata": {},
   "outputs": [],
   "source": [
    "import pandas as pd\n",
    "import boto3\n",
    "import json"
   ]
  },
  {
   "cell_type": "markdown",
   "metadata": {},
   "source": [
    "## NLP for One Line"
   ]
  },
  {
   "cell_type": "code",
   "execution_count": 2,
   "metadata": {
    "scrolled": true
   },
   "outputs": [
    {
     "name": "stdout",
     "output_type": "stream",
     "text": [
      "Calling DetectSentiment\n",
      "{\n",
      "    \"ResponseMetadata\": {\n",
      "        \"HTTPHeaders\": {\n",
      "            \"connection\": \"keep-alive\",\n",
      "            \"content-length\": \"164\",\n",
      "            \"content-type\": \"application/x-amz-json-1.1\",\n",
      "            \"date\": \"Mon, 12 Mar 2018 01:49:59 GMT\",\n",
      "            \"x-amzn-requestid\": \"abfd3eb5-2597-11e8-bdad-d1fb2f407279\"\n",
      "        },\n",
      "        \"HTTPStatusCode\": 200,\n",
      "        \"RequestId\": \"abfd3eb5-2597-11e8-bdad-d1fb2f407279\",\n",
      "        \"RetryAttempts\": 0\n",
      "    },\n",
      "    \"Sentiment\": \"NEUTRAL\",\n",
      "    \"SentimentScore\": {\n",
      "        \"Mixed\": 0.002063251566141844,\n",
      "        \"Negative\": 0.013271247036755085,\n",
      "        \"Neutral\": 0.9274052977561951,\n",
      "        \"Positive\": 0.057260122150182724\n",
      "    }\n",
      "}\n",
      "End of DetectSentiment\n",
      "\n"
     ]
    }
   ],
   "source": [
    "import boto3\n",
    "import json\n",
    "\n",
    "comprehend = boto3.client(service_name='comprehend', region_name='us-east-1')\n",
    "                \n",
    "text = \"It is raining today in Seattle\"\n",
    "\n",
    "print('Calling DetectSentiment')\n",
    "print(json.dumps(comprehend.detect_sentiment(Text=text, LanguageCode='en'), sort_keys=True, indent=4))\n",
    "print('End of DetectSentiment\\n')"
   ]
  },
  {
   "cell_type": "markdown",
   "metadata": {},
   "source": [
    "## NLP for one text"
   ]
  },
  {
   "cell_type": "code",
   "execution_count": 3,
   "metadata": {},
   "outputs": [],
   "source": [
    "# I use several lines from an article :http://www.bbc.com/news/world-us-canada-43366328\n",
    "text = open('text.txt',\"r\")"
   ]
  },
  {
   "cell_type": "code",
   "execution_count": 5,
   "metadata": {},
   "outputs": [
    {
     "data": {
      "text/plain": [
       "'Attempts to negotiate aid-for-disarmament deals have failed repeatedly since 2003, when the North pulled out of the Nuclear Non-Proliferation Treaty (NPT).\\n'"
      ]
     },
     "execution_count": 5,
     "metadata": {},
     "output_type": "execute_result"
    }
   ],
   "source": [
    "output = text.readlines()\n",
    "output[2]"
   ]
  },
  {
   "cell_type": "code",
   "execution_count": 7,
   "metadata": {},
   "outputs": [
    {
     "data": {
      "text/plain": [
       "'No sitting US president has ever met a North Korean leader. Mr Trump reportedly accepted the offer to do so on the spot when it was relayed by South Korean envoys on Thursday, taking his own administration by surprise.\\n, \\n, Attempts to negotiate aid-for-disarmament deals have failed repeatedly since 2003, when the North pulled out of the Nuclear Non-Proliferation Treaty (NPT).\\n, \\n, Mr Pompeo told CBS the administration had its eyes \"wide open\" to the challenge of dealing with North Korea.\\n, \\n, He said the country was coming to the table now because US-led sanctions have battered it economically.\\n, \\n, \"Never before have we had the North Koreans in a position where their economy was at such risk, where their leadership was under such pressure,\" he told Fox News.\\n, \\n, Another top White House official, Treasury Secretary Steve Mnuchin, stressed the \"clear\" objective of the talks was getting rid of nuclear weapons on the Korean peninsula, and restated that the US expects there to be no missile or nuclear test ahead of the meeting.\\n, \\n, Fears Kim could \\'take advantage\\'\\n, Politicians from both main parties in US politics expressed concerns over the planned meeting, however.\\n, \\n, Republican Senator Cory Gardner told CBS he wanted \"concrete, verifiable steps toward denuclearisation\" before the talks take place.\\n, \\n, Another Republican Senator, Jeff Flake, told NBC he was sceptical about whether denuclearisation was a realistic goal at all.\\n, \\n'"
      ]
     },
     "execution_count": 7,
     "metadata": {},
     "output_type": "execute_result"
    }
   ],
   "source": [
    "whole_doc = ', '.join(map(str, output))\n",
    "whole_doc"
   ]
  },
  {
   "cell_type": "code",
   "execution_count": 8,
   "metadata": {
    "scrolled": false
   },
   "outputs": [
    {
     "name": "stdout",
     "output_type": "stream",
     "text": [
      "{\n",
      "    \"ResponseMetadata\": {\n",
      "        \"HTTPHeaders\": {\n",
      "            \"connection\": \"keep-alive\",\n",
      "            \"content-length\": \"163\",\n",
      "            \"content-type\": \"application/x-amz-json-1.1\",\n",
      "            \"date\": \"Mon, 12 Mar 2018 02:05:43 GMT\",\n",
      "            \"x-amzn-requestid\": \"deca3e02-2599-11e8-b183-f7256e9bc091\"\n",
      "        },\n",
      "        \"HTTPStatusCode\": 200,\n",
      "        \"RequestId\": \"deca3e02-2599-11e8-b183-f7256e9bc091\",\n",
      "        \"RetryAttempts\": 0\n",
      "    },\n",
      "    \"Sentiment\": \"NEUTRAL\",\n",
      "    \"SentimentScore\": {\n",
      "        \"Mixed\": 0.012213201262056828,\n",
      "        \"Negative\": 0.04199688136577606,\n",
      "        \"Neutral\": 0.9359695911407471,\n",
      "        \"Positive\": 0.009820216335356236\n",
      "    }\n",
      "}\n"
     ]
    }
   ],
   "source": [
    "print(json.dumps(comprehend.detect_sentiment(Text=whole_doc, LanguageCode='en'), sort_keys=True, indent=4))"
   ]
  },
  {
   "cell_type": "markdown",
   "metadata": {},
   "source": [
    "## NLP for one record"
   ]
  },
  {
   "cell_type": "code",
   "execution_count": 9,
   "metadata": {},
   "outputs": [
    {
     "name": "stdout",
     "output_type": "stream",
     "text": [
      "{\n",
      "    \"ResponseMetadata\": {\n",
      "        \"HTTPHeaders\": {\n",
      "            \"connection\": \"keep-alive\",\n",
      "            \"content-length\": \"164\",\n",
      "            \"content-type\": \"application/x-amz-json-1.1\",\n",
      "            \"date\": \"Mon, 12 Mar 2018 02:06:46 GMT\",\n",
      "            \"x-amzn-requestid\": \"042d29de-259a-11e8-84f7-3bd0bdbf23ac\"\n",
      "        },\n",
      "        \"HTTPStatusCode\": 200,\n",
      "        \"RequestId\": \"042d29de-259a-11e8-84f7-3bd0bdbf23ac\",\n",
      "        \"RetryAttempts\": 0\n",
      "    },\n",
      "    \"Sentiment\": \"NEGATIVE\",\n",
      "    \"SentimentScore\": {\n",
      "        \"Mixed\": 0.01999555714428425,\n",
      "        \"Negative\": 0.49176639318466187,\n",
      "        \"Neutral\": 0.47312507033348083,\n",
      "        \"Positive\": 0.015113056637346745\n",
      "    }\n",
      "}\n"
     ]
    }
   ],
   "source": [
    "print(json.dumps(comprehend.detect_sentiment(Text=output[2], LanguageCode='en'), sort_keys=True, indent=4))"
   ]
  }
 ],
 "metadata": {
  "anaconda-cloud": {},
  "kernelspec": {
   "display_name": "Python [default]",
   "language": "python",
   "name": "python3"
  },
  "language_info": {
   "codemirror_mode": {
    "name": "ipython",
    "version": 3
   },
   "file_extension": ".py",
   "mimetype": "text/x-python",
   "name": "python",
   "nbconvert_exporter": "python",
   "pygments_lexer": "ipython3",
   "version": "3.6.1"
  }
 },
 "nbformat": 4,
 "nbformat_minor": 2
}
