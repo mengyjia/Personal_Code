{
 "cells": [
  {
   "cell_type": "code",
   "execution_count": 2,
   "metadata": {
    "scrolled": false
   },
   "outputs": [],
   "source": [
    "#!pip install boto3\n",
    "#!pip install boto\n",
    "import os\n",
    "import boto3\n",
    "import numpy as np\n",
    "import pandas as pd\n",
    "import io"
   ]
  },
  {
   "cell_type": "markdown",
   "metadata": {},
   "source": [
    "# how to open a log file from s3"
   ]
  },
  {
   "cell_type": "markdown",
   "metadata": {},
   "source": [
    "\n",
    "client = boto3.client('s3') #low-level functional API\n",
    "\n",
    "resource = boto3.resource('s3') #high-level object-oriented API\n",
    "my_bucket = resource.Bucket('adp.spark.app.logs.us-west-1.prd') #subsitute this for your s3 bucket name. \n",
    "    \n",
    "\n",
    "#put the log files's path into a list\n",
    "files = list(my_bucket.objects.filter(Prefix='logs/aggregates/S3_Logs'))\n",
    "\n",
    "print(\"Number of log files : {}\".format(len(files)))\n",
    "\n",
    "files[0:5]\n",
    "\n",
    "#get the log name\n",
    "files[2].key.replace('logs/aggregates/S3_Logs/','')\n",
    "\n",
    "#here the number '2' represents the index of 'files', and you can change to other numbers\n",
    "obj = files[2].get()\n",
    "obj\n",
    "\n",
    "#read a log file\n",
    "log = obj[\"Body\"].read()\n",
    "log\n",
    "\n",
    "type(log)\n",
    "\n",
    "b =log.decode(\"utf-8\", \"strict\")\n",
    "b\n",
    "\n",
    "type(b)\n",
    "\n",
    "# extract keywords from log files"
   ]
  },
  {
   "cell_type": "code",
   "execution_count": 3,
   "metadata": {},
   "outputs": [],
   "source": [
    "client = boto3.client('s3') #low-level functional API\n",
    "\n",
    "resource = boto3.resource('s3') #high-level object-oriented API\n",
    "my_bucket = resource.Bucket('adp.spark.app.logs.us-west-1.prd') #subsitute this for your s3 bucket name. \n"
   ]
  },
  {
   "cell_type": "code",
   "execution_count": 4,
   "metadata": {},
   "outputs": [
    {
     "name": "stdout",
     "output_type": "stream",
     "text": [
      "Number of log files : 45467\n"
     ]
    }
   ],
   "source": [
    "#put the log files's path and name into a list\n",
    "files_all = list(my_bucket.objects.filter(Prefix='logs/aggregates'))\n",
    "\n",
    "print(\"Number of log files : {}\".format(len(files_all)))"
   ]
  },
  {
   "cell_type": "code",
   "execution_count": 5,
   "metadata": {},
   "outputs": [],
   "source": [
    "#choose a random sample\n",
    "import random\n",
    "sample_number = int(len(files_all)*0.1)\n",
    "files = random.sample(files_all,sample_number)"
   ]
  },
  {
   "cell_type": "code",
   "execution_count": 6,
   "metadata": {},
   "outputs": [],
   "source": [
    "############################\n",
    "#only need to change here! #\n",
    "############################\n",
    "# when you run a new list, pls put the old on in the marks, like this:\n",
    "#keywords_v1 = []\n",
    "#keywords_v2 = []\n",
    "keywords = ['exception','kill','fail'] "
   ]
  },
  {
   "cell_type": "code",
   "execution_count": 7,
   "metadata": {
    "scrolled": true
   },
   "outputs": [],
   "source": [
    "#here is Mengyu's version based on shruti's version, we can run this code successfully, but slowly\n",
    "\n",
    "#from StringIO import StringIO\n",
    "from io import StringIO\n",
    "#from datetime import datetime, date\n",
    "#import time\n",
    "#import calendar\n",
    "#import fnmatch\n",
    "#import csv\n",
    "#import os\n",
    "\n",
    "\n",
    "\n",
    "\n",
    "filename = []\n",
    "results = {}\n",
    "\n",
    "def getloginfo(keyword):\n",
    "    ctr = 0\n",
    "    tempList = []\n",
    "    for i in range(0,len(files)):\n",
    "        obj = files[i].get()\n",
    "        f = obj[\"Body\"].read()\n",
    "        filename.append(files[i].key.replace('logs/aggregates/S3_Logs/','').replace('logs/aggregates/',''))\n",
    "        for line in io.StringIO(f.decode(\"utf-8\", \"ignore\")):\n",
    "            if keyword in line.lower():\n",
    "                tempList.append(line)\n",
    "        results[filename[ctr]] = tempList\n",
    "        tempList = []\n",
    "        ctr += 1\n",
    "    return results\n"
   ]
  },
  {
   "cell_type": "markdown",
   "metadata": {},
   "source": [
    "# version2 using map function(not work)\n",
    "keyword = 'kill'\n",
    "\n",
    "\n",
    "filename = []\n",
    "results = {}\n",
    "\n",
    "def getloginfo2(log):\n",
    "    tempList = []\n",
    "    obj = log.get()\n",
    "    f = obj[\"Body\"].read()\n",
    "    filename.append(log.key.replace('logs/aggregates/S3_Logs/',''))\n",
    "    for line in io.StringIO(f.decode(\"utf-8\", \"ignore\")):\n",
    "        if keyword in line.lower():\n",
    "            tempList.append(line)\n",
    "    results[filename[0]] = tempList\n",
    "    return results\n",
    "\n",
    "alpha = list(map(lambda x: getloginfo2(x),files))\n",
    "            \n"
   ]
  },
  {
   "cell_type": "markdown",
   "metadata": {},
   "source": [
    "# Write results to a csv and save it on s3"
   ]
  },
  {
   "cell_type": "code",
   "execution_count": null,
   "metadata": {},
   "outputs": [],
   "source": [
    "# This is the code to write all logs and error msg to csv in this folder (ucd_msba_team) angie's version:\n",
    "def write_csv(res):\n",
    "    # change the directory\n",
    "    import os \n",
    "    os.chdir('/home/ec2-user/UCD_MSBA_team/Keywords')\n",
    "    import csv\n",
    "    with open(keyword+'_output.csv','w',newline='') as f:             \n",
    "        w = csv.writer(f)\n",
    "        w.writerow(['log_id','lines'])\n",
    "        for key,items in res.items():\n",
    "            for item in items:\n",
    "                w.writerow([key,item])\n",
    "\n"
   ]
  },
  {
   "cell_type": "code",
   "execution_count": null,
   "metadata": {},
   "outputs": [],
   "source": [
    "# run the two functions above\n",
    "for keyword in keywords:\n",
    "    res = getloginfo(keyword)\n",
    "    write_csv(res)"
   ]
  }
 ],
 "metadata": {
  "kernelspec": {
   "display_name": "Python 3",
   "language": "python",
   "name": "python3"
  },
  "language_info": {
   "codemirror_mode": {
    "name": "ipython",
    "version": 3
   },
   "file_extension": ".py",
   "mimetype": "text/x-python",
   "name": "python",
   "nbconvert_exporter": "python",
   "pygments_lexer": "ipython3",
   "version": "3.6.2"
  }
 },
 "nbformat": 4,
 "nbformat_minor": 2
}
